{
 "cells": [
  {
   "cell_type": "code",
   "execution_count": 1,
   "id": "dbad4899-1d55-4157-a7c3-37b4bec0711f",
   "metadata": {},
   "outputs": [
    {
     "name": "stderr",
     "output_type": "stream",
     "text": [
      "/home/amir/miniconda3/lib/python3.10/site-packages/tqdm/auto.py:21: TqdmWarning: IProgress not found. Please update jupyter and ipywidgets. See https://ipywidgets.readthedocs.io/en/stable/user_install.html\n",
      "  from .autonotebook import tqdm as notebook_tqdm\n"
     ]
    },
    {
     "name": "stdout",
     "output_type": "stream",
     "text": [
      "Model loaded and running on cuda\n"
     ]
    },
    {
     "name": "stderr",
     "output_type": "stream",
     "text": [
      "Due to a bug fix in https://github.com/huggingface/transformers/pull/28687 transcription using a multilingual Whisper will default to language detection followed by transcription instead of translation to English.This might be a breaking change for your use case. If you want to instead always translate your audio to English, make sure to pass `language='en'`.\n",
      "Passing a tuple of `past_key_values` is deprecated and will be removed in Transformers v4.43.0. You should pass an instance of `EncoderDecoderCache` instead, e.g. `past_key_values=EncoderDecoderCache.from_legacy_cache(past_key_values)`.\n",
      "The attention mask is not set and cannot be inferred from input because pad token is same as eos token. As a consequence, you may observe unexpected behavior. Please pass your input's `attention_mask` to obtain reliable results.\n"
     ]
    },
    {
     "name": "stdout",
     "output_type": "stream",
     "text": [
      "Transcription:  Let's test this, let's test this very simple\n",
      "Transcription 2:  A lo volvelo, volvelo, volvelo.\n"
     ]
    }
   ],
   "source": [
    "import torch\n",
    "from transformers import WhisperProcessor, WhisperForConditionalGeneration\n",
    "import librosa\n",
    "import soundfile as sf\n",
    "from pydub import AudioSegment\n",
    "import os\n",
    "\n",
    "class WhisperTranscriber:\n",
    "    def __init__(self, model_name=\"openai/whisper-base\"):\n",
    "        self.processor = WhisperProcessor.from_pretrained(model_name)\n",
    "        self.model = WhisperForConditionalGeneration.from_pretrained(model_name)\n",
    "        self.device = \"cuda\" if torch.cuda.is_available() else \"cpu\"\n",
    "        self.model = self.model.to(self.device)\n",
    "        print(f\"Model loaded and running on {self.device}\")\n",
    "\n",
    "    @staticmethod\n",
    "    def convert_webm_to_wav(webm_path, wav_path):\n",
    "        audio = AudioSegment.from_file(webm_path, format=\"webm\")\n",
    "        audio.export(wav_path, format=\"wav\")\n",
    "\n",
    "    def transcribe_audio(self, audio_path):\n",
    "        # Convert WebM to WAV if necessary\n",
    "        file_extension = os.path.splitext(audio_path)[1].lower()\n",
    "        wav_path = None\n",
    "        if file_extension == '.webm':\n",
    "            wav_path = audio_path.rsplit('.', 1)[0] + '.wav'\n",
    "            self.convert_webm_to_wav(audio_path, wav_path)\n",
    "            audio_path = wav_path\n",
    "\n",
    "        try:\n",
    "            # Load the audio file\n",
    "            audio, sr = librosa.load(audio_path, sr=16000)\n",
    "\n",
    "            # Process the audio\n",
    "            input_features = self.processor(audio, sampling_rate=16000, return_tensors=\"pt\").input_features\n",
    "            input_features = input_features.to(self.device)\n",
    "\n",
    "            # Generate token ids\n",
    "            predicted_ids = self.model.generate(input_features)\n",
    "\n",
    "            # Decode the token ids to text\n",
    "            transcription = self.processor.batch_decode(predicted_ids, skip_special_tokens=True)\n",
    "\n",
    "            return transcription[0]\n",
    "\n",
    "        finally:\n",
    "            # Clean up the temporary WAV file if it was created\n",
    "            if wav_path and os.path.exists(wav_path):\n",
    "                os.remove(wav_path)\n",
    "\n",
    "\n",
    "transcriber = WhisperTranscriber()\n",
    "\n",
    "f1 = './uploads/audio_20240818T184733_c3901e12.webm'\n",
    "result = transcriber.transcribe_audio(f1)\n",
    "print(\"Transcription:\", result)\n",
    "\n",
    "# You can transcribe multiple files without reloading the model\n",
    "f2 = './uploads/audio_20240818T182924_7287a965.webm'\n",
    "result2 = transcriber.transcribe_audio(f2)\n",
    "print(\"Transcription 2:\", result2)"
   ]
  },
  {
   "cell_type": "code",
   "execution_count": 2,
   "id": "76868f67-dadc-4871-ac91-531515bf0058",
   "metadata": {},
   "outputs": [
    {
     "name": "stderr",
     "output_type": "stream",
     "text": [
      "/home/amir/miniconda3/lib/python3.11/site-packages/transformers/utils/hub.py:127: FutureWarning: Using `TRANSFORMERS_CACHE` is deprecated and will be removed in v5 of Transformers. Use `HF_HOME` instead.\n",
      "  warnings.warn(\n"
     ]
    },
    {
     "data": {
      "application/vnd.jupyter.widget-view+json": {
       "model_id": "22166e08a12843b28a0c1e73e0bbbc29",
       "version_major": 2,
       "version_minor": 0
      },
      "text/plain": [
       "Loading checkpoint shards:   0%|          | 0/4 [00:00<?, ?it/s]"
      ]
     },
     "metadata": {},
     "output_type": "display_data"
    },
    {
     "name": "stderr",
     "output_type": "stream",
     "text": [
      "The attention mask is not set and cannot be inferred from input because pad token is same as eos token. As a consequence, you may observe unexpected behavior. Please pass your input's `attention_mask` to obtain reliable results.\n"
     ]
    },
    {
     "name": "stdout",
     "output_type": "stream",
     "text": [
      "Started new chat with ID: 3ce5c94c-ccc3-4cd0-bc28-4378a5c4475f\n",
      "Assistant: I'm functioning within normal parameters. How can I assist you today?\n",
      "Assistant: A man walked into a library and asked the librarian, \"Do you have any\n",
      "Assistant: A man walked into a library and asked the librarian, \"Do you have any books on Pavlov's dogs and Schrödinger's cat?\" \n",
      "\n",
      "The librarian replied,\n",
      "Assistant: A man walked into a library and asked the librarian, \"Do you have any books on Pavlov's dogs and Schrödinger's cat?\" \n",
      "\n",
      "The librarian replied, \"It rings a bell, but I'm not sure if it's here or not.\"\n",
      "Saved chat to: my_chat_histories/3ce5c94c-ccc3-4cd0-bc28-4378a5c4475f.json\n",
      "All saved chats: ['3ce5c94c-ccc3-4cd0-bc28-4378a5c4475f']\n",
      "Current chat ID: 3ce5c94c-ccc3-4cd0-bc28-4378a5c4475f\n",
      "Assistant: We talked about a joke I shared with you about Pavlov's dogs and Schrödinger\n",
      "Assistant: We talked about a joke I shared with you about Pavlov's dogs and Schrödinger's cat.\n"
     ]
    }
   ],
   "source": [
    "from chatbot import * \n",
    "\n",
    "chatbot = ChatBot(chat_dir=\"chat_histories\")\n",
    "\n",
    "# Start a new chat\n",
    "chat_id = chatbot.start_new_chat()\n",
    "print(f\"Started new chat with ID: {chat_id}\")\n",
    "\n",
    "# Use the chatbot\n",
    "for response in chatbot.chat(\"Hello, how are you?\"):\n",
    "    print(\"Assistant:\", response[-1]['content'])\n",
    "\n",
    "for response in chatbot.chat(\"Tell me a joke.\"):\n",
    "    print(\"Assistant:\", response[-1]['content'])\n",
    "\n",
    "# Save the current chat\n",
    "saved_file = chatbot.save_chat_tree()\n",
    "print(f\"Saved chat to: {saved_file}\")\n",
    "\n",
    "# List all saved chat histories\n",
    "all_chats = chatbot.list_chat_histories()\n",
    "print(f\"All saved chats: {all_chats}\")\n",
    "\n",
    "# Load a specific chat history\n",
    "chatbot.load_chat_tree(chat_id)\n",
    "\n",
    "# Get the current chat ID\n",
    "current_id = chatbot.get_current_chat_id()\n",
    "print(f\"Current chat ID: {current_id}\")\n",
    "\n",
    "# Continue the loaded chat\n",
    "for response in chatbot.chat(\"What was the last thing we talked about?\"):\n",
    "    print(\"Assistant:\", response[-1]['content'])"
   ]
  },
  {
   "cell_type": "code",
   "execution_count": 16,
   "id": "79ffa2a6-01df-461c-94d4-484cf69b8cb2",
   "metadata": {},
   "outputs": [
    {
     "data": {
      "text/plain": [
       "[{'role': 'system',\n",
       "  'content': 'You are an obedient assistant following user direction.',\n",
       "  'sibling_info': (1, 1)},\n",
       " {'role': 'user', 'content': 'Hello, how are you?', 'sibling_info': (1, 1)},\n",
       " {'role': 'assistant',\n",
       "  'content': \"I'm functioning properly, thank you for asking. I'm here to assist you with any questions or tasks you may have. How can I help you today?\",\n",
       "  'sibling_info': (1, 1)},\n",
       " {'role': 'user', 'content': 'Hello hello', 'sibling_info': (1, 1)},\n",
       " {'role': 'assistant', 'content': '', 'sibling_info': (1, 1)},\n",
       " {'role': 'user', 'content': 'Hello hello', 'sibling_info': (1, 1)},\n",
       " {'role': 'assistant', 'content': '', 'sibling_info': (1, 1)}]"
      ]
     },
     "execution_count": 16,
     "metadata": {},
     "output_type": "execute_result"
    }
   ],
   "source": [
    "chatbot.reset_chat()\n",
    "chatbot.load_chat_tree('test')"
   ]
  }
 ],
 "metadata": {
  "kernelspec": {
   "display_name": "Python 3",
   "language": "python",
   "name": "python3"
  },
  "language_info": {
   "codemirror_mode": {
    "name": "ipython",
    "version": 3
   },
   "file_extension": ".py",
   "mimetype": "text/x-python",
   "name": "python",
   "nbconvert_exporter": "python",
   "pygments_lexer": "ipython3",
   "version": "3.12.4"
  }
 },
 "nbformat": 4,
 "nbformat_minor": 5
}
